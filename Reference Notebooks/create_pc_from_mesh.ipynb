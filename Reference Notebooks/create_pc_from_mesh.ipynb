{
 "cells": [
  {
   "cell_type": "markdown",
   "metadata": {},
   "source": [
    "# 2. Create a point cloud from STL file"
   ]
  },
  {
   "cell_type": "markdown",
   "metadata": {},
   "source": [
    "The following script takes an existing STL file as an input, translating it into a point cloud. "
   ]
  },
  {
   "cell_type": "code",
   "execution_count": 1,
   "metadata": {},
   "outputs": [
    {
     "name": "stdout",
     "output_type": "stream",
     "text": [
      "Jupyter environment detected. Enabling Open3D WebVisualizer.\n",
      "[Open3D INFO] WebRTC GUI backend enabled.\n",
      "[Open3D INFO] WebRTCWindowSystem: HTTP handshake server disabled.\n"
     ]
    }
   ],
   "source": [
    "import open3d as o3d"
   ]
  },
  {
   "cell_type": "code",
   "execution_count": 2,
   "metadata": {},
   "outputs": [],
   "source": [
    "mesh_path = \"C:\\\\Users\\\\gusta\\\\Desktop\\\\ITESM_Desktop\\\\maestria\\\\tesis\\\\TercerSemestre\\\\realTimeICP\\\\refined_one_img_process\\\\resources\\\\3D_models\\\\smooth\\\\bp4.stl\"\n",
    "#mesh_path = \"C:\\\\Users\\\\gusta\\\\Desktop\\\\ITESM_Desktop\\\\maestria\\\\tesis\\\\TercerSemestre\\\\realTimeICP\\\\refined_one_img_process\\\\resources\\\\3D_models\\\\rough\\\\bp3.stl\"\n",
    "mesh = o3d.io.read_triangle_mesh(mesh_path)"
   ]
  },
  {
   "cell_type": "markdown",
   "metadata": {},
   "source": [
    "You can decide the number of points that a target point cloud is going to have. In my case, starting with a point cloud of 10,000 which is going to be scaled later gave me acceptable results. "
   ]
  },
  {
   "cell_type": "code",
   "execution_count": 3,
   "metadata": {},
   "outputs": [],
   "source": [
    "number_of_points = 10000 # Ajust this number as you find it convenient.\n",
    "pcd = mesh.sample_points_poisson_disk(number_of_points)"
   ]
  },
  {
   "cell_type": "code",
   "execution_count": 4,
   "metadata": {},
   "outputs": [
    {
     "name": "stdout",
     "output_type": "stream",
     "text": [
      "[Open3D WARNING] GLFW Error: WGL: Failed to make context current: La operación de transformación solicitada no es compatible. \n"
     ]
    }
   ],
   "source": [
    "o3d.visualization.draw_geometries([pcd])"
   ]
  },
  {
   "cell_type": "markdown",
   "metadata": {},
   "source": [
    "After having generated and visualized the point cloud, you save it. "
   ]
  },
  {
   "cell_type": "code",
   "execution_count": 5,
   "metadata": {},
   "outputs": [
    {
     "data": {
      "text/plain": [
       "True"
      ]
     },
     "execution_count": 5,
     "metadata": {},
     "output_type": "execute_result"
    }
   ],
   "source": [
    "save_mesh_to_pc_path = \"C:\\\\Users\\\\gusta\\\\Desktop\\\\ITESM_Desktop\\\\maestria\\\\tesis\\\\TercerSemestre\\\\realTimeICP\\\\refined_one_img_process\\\\results\\\\model_point_cloud\\\\output_10000.ply\"\n",
    "#o3d.io.write_point_cloud(save_mesh_to_pc_path, pcd)"
   ]
  },
  {
   "cell_type": "markdown",
   "metadata": {},
   "source": [
    "Next up, you can move to \"pc_aligning_and_scaling\""
   ]
  }
 ],
 "metadata": {
  "kernelspec": {
   "display_name": "o3d",
   "language": "python",
   "name": "python3"
  },
  "language_info": {
   "codemirror_mode": {
    "name": "ipython",
    "version": 3
   },
   "file_extension": ".py",
   "mimetype": "text/x-python",
   "name": "python",
   "nbconvert_exporter": "python",
   "pygments_lexer": "ipython3",
   "version": "3.10.13"
  }
 },
 "nbformat": 4,
 "nbformat_minor": 2
}
