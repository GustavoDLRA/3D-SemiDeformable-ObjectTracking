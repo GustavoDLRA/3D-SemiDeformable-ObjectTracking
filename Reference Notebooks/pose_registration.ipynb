{
 "cells": [
  {
   "cell_type": "markdown",
   "metadata": {},
   "source": [
    "# 4. Pose Registration\n",
    "\n",
    "In the following notebook we use 2 pose registration algorithms. RANSAC and ICP in order to be able to track the pose of the scanned bell pepper using the 3D model. "
   ]
  },
  {
   "cell_type": "markdown",
   "metadata": {},
   "source": [
    "## 1. Importing Libraries"
   ]
  },
  {
   "cell_type": "code",
   "execution_count": 1,
   "metadata": {},
   "outputs": [
    {
     "name": "stdout",
     "output_type": "stream",
     "text": [
      "Jupyter environment detected. Enabling Open3D WebVisualizer.\n",
      "[Open3D INFO] WebRTC GUI backend enabled.\n",
      "[Open3D INFO] WebRTCWindowSystem: HTTP handshake server disabled.\n"
     ]
    }
   ],
   "source": [
    "import open3d as o3d\n",
    "import numpy as np\n",
    "import copy\n",
    "import time\n",
    "import os \n",
    "import sys\n",
    "import cv2\n",
    "import json"
   ]
  },
  {
   "cell_type": "markdown",
   "metadata": {},
   "source": [
    "## 2. Importing Files"
   ]
  },
  {
   "cell_type": "code",
   "execution_count": 2,
   "metadata": {},
   "outputs": [],
   "source": [
    "source_path = \"C:\\\\Users\\\\gusta\\\\Desktop\\\\ITESM_Desktop\\\\maestria\\\\tesis\\\\TercerSemestre\\\\realTimeICP\\\\refined_one_img_process\\\\results\\\\scaled_aligned_model\\\\pancake_right_inclination.ply\"\n",
    "target_path = \"C:\\\\Users\\\\gusta\\\\Desktop\\\\ITESM_Desktop\\\\maestria\\\\tesis\\\\TercerSemestre\\\\realTimeICP\\\\refined_one_img_process\\\\results\\\\translated_kinect_scan\\\\translated_kinect_scan.ply\""
   ]
  },
  {
   "cell_type": "markdown",
   "metadata": {},
   "source": [
    "Helper function for visualization"
   ]
  },
  {
   "cell_type": "code",
   "execution_count": 3,
   "metadata": {},
   "outputs": [],
   "source": [
    "# scaled_pcd2 is the rightly scaled model point cloud\n",
    "# target is the kinect scan\n",
    "def draw_registration_result(source, target, transformation):\n",
    "  source_temp = copy.deepcopy(source)\n",
    "  target_temp = copy.deepcopy(target)\n",
    "  source_temp.paint_uniform_color([1, 0.706, 0])\n",
    "  target_temp.paint_uniform_color([0, 0.651, 0.929])\n",
    "  source_temp.transform(transformation)\n",
    "  o3d.visualization.draw_geometries([source_temp, target_temp])\n",
    "  # Note: Since the functions \"transform\" and \"paint_uniform_color\" change the point cloud,\n",
    "  # we call copy.deep to make copies and protect the original point clouds."
   ]
  },
  {
   "cell_type": "markdown",
   "metadata": {},
   "source": [
    "## 3. Global registration "
   ]
  },
  {
   "cell_type": "markdown",
   "metadata": {},
   "source": [
    "### Global Registration Initialization\n",
    "#### Extract Geometric Features\n",
    "\n",
    "We downsample the pointcloud to estimate normals, then compute the FPFH feature for each point. The FPFH feature is a 33-dimensional vector that describes the local geometric property of a point. A nearest neighbor query in the 33-dimensional space can return points with similar local geometric structures. "
   ]
  },
  {
   "cell_type": "code",
   "execution_count": 4,
   "metadata": {},
   "outputs": [],
   "source": [
    "def preprocess_point_cloud(pcd, voxel_size):\n",
    "    print(\":: Downsample with a voxel size of %.3f.\" % voxel_size)\n",
    "    pcd_down = pcd.voxel_down_sample(voxel_size)\n",
    "\n",
    "    radius_normal = voxel_size * 2\n",
    "    print(\":: Estimate normal with  search radius %.3f.\" % radius_normal)\n",
    "    pcd_down.estimate_normals(\n",
    "        o3d.geometry.KDTreeSearchParamHybrid(radius=radius_normal, max_nn=30)\n",
    "    )\n",
    "    radius_feature = voxel_size * 5\n",
    "    print(\":: Compute FPFH feature with search radius %.3f.\" % radius_feature)\n",
    "    pcd_fpfh = o3d.pipelines.registration.compute_fpfh_feature(\n",
    "        pcd_down, \n",
    "        o3d.geometry.KDTreeSearchParamHybrid(radius=radius_feature, max_nn=100)\n",
    "    )\n",
    "    return pcd_down, pcd_fpfh"
   ]
  },
  {
   "cell_type": "markdown",
   "metadata": {},
   "source": [
    "#### Input\n",
    "The code below reads a source point cloud and a target point cloud from two files, they are misaligned with an identity matrix as transformation."
   ]
  },
  {
   "cell_type": "code",
   "execution_count": 5,
   "metadata": {},
   "outputs": [],
   "source": [
    "def prepare_dataset(voxel_size):\n",
    "    print(\":: Load two point clouds and disturb the initial pose.\")\n",
    "    source = o3d.io.read_point_cloud(source_path)\n",
    "    target = o3d.io.read_point_cloud(target_path)\n",
    "    trans_init = np.asarray([[0.0, 0.0, 1.0, 0.0], \n",
    "                             [1.0, 0.0, 0.0, 0.0], \n",
    "                             [0.0, 1.0, 0.0, 0.0], \n",
    "                             [0.0, 0.0, 0.0, 1.0]])\n",
    "    source.transform(trans_init)\n",
    "    draw_registration_result(source, target, np.identity(4))\n",
    "\n",
    "    source_down, source_fpfh = preprocess_point_cloud(source, voxel_size)\n",
    "    target_down, target_fpfh = preprocess_point_cloud(target, voxel_size)\n",
    "    return source, target, source_down, target_down, source_fpfh, target_fpfh"
   ]
  },
  {
   "cell_type": "code",
   "execution_count": 6,
   "metadata": {},
   "outputs": [
    {
     "name": "stdout",
     "output_type": "stream",
     "text": [
      ":: Load two point clouds and disturb the initial pose.\n",
      "[Open3D WARNING] GLFW Error: WGL: Failed to make context current: Controlador no válido. \n",
      "[Open3D WARNING] GLFW Error: WGL: Failed to make context current: Controlador no válido. \n",
      ":: Downsample with a voxel size of 0.005.\n",
      ":: Estimate normal with  search radius 0.010.\n",
      ":: Compute FPFH feature with search radius 0.025.\n",
      ":: Downsample with a voxel size of 0.005.\n",
      ":: Estimate normal with  search radius 0.010.\n",
      ":: Compute FPFH feature with search radius 0.025.\n"
     ]
    }
   ],
   "source": [
    "voxel_size = 0.005 # means 5cm for the original dataset... gotta check on mine\n",
    "source, target, source_down, target_down, source_fpfh, target_fpfh = prepare_dataset(\n",
    "    voxel_size=voxel_size)"
   ]
  },
  {
   "cell_type": "markdown",
   "metadata": {},
   "source": [
    "### RANSAC\n",
    "RANSAC is utilized for global registration. In each RANSAC iteration, ransac_n random points are picked from the source point cloud. Their corresponding points in the target point cloud are detected by querying the nearest neighbor in the 33-dimensional FPFH feature space. A pruning step takes fast pruning algorithms to quickly reject false matches early. \n",
    "\n",
    "Open3D provides the following prunning algorithms: \n",
    "* CorrespondenceCheckerBasedOnDistance checks if aligned point clouds are close (less than the specified threshold). \n",
    "* CorrespondenceCheckBasedOnEdgeLength checks if the lengths of any two arbitrary edges (line formed by two vertices) individually drawn from source and target correspondences are similar. This tutorial checks that ||edge_source|| > 0.9 * || edge_target || and ||edge_target|| > 0.9 * ||edge_source|| are true. \n",
    "* CorrespondeceCheckerBasedOnNormal considers vertex normal affinity of any correspondences. It computes the dot product of two normal vectors. It takes a radian value for the threshold. \n",
    "\n",
    "Only matches that pass through the prunning step are used to compute a transformation, which is validated on the entire point cloud. The core function is registration_ransac_based_on_feature_matching. The most important hyperparameter of this function is RANSACConvergenceCriteria. It defines the maximum number of RANSAC iterations and the confidence probability. The larger these 2 numbers are, the more accurate the result is, but also the more time the algorithm takes. "
   ]
  },
  {
   "cell_type": "code",
   "execution_count": 7,
   "metadata": {},
   "outputs": [],
   "source": [
    "def execute_global_registration(source_down, target_down, source_fpfh, target_fpfh, voxel_size):\n",
    "    distance_threshold = voxel_size * 1.5\n",
    "    print(\":: RANSAC registration on downsampled point clouds. \")\n",
    "    print(\"   Since the downsampling voxel sixe is %.3f, \" % voxel_size)\n",
    "    print(\"   we use a liberal distance threshold %.3f.\" % distance_threshold)\n",
    "    result = o3d.pipelines.registration.registration_ransac_based_on_feature_matching(\n",
    "        source_down, target_down, source_fpfh, target_fpfh, True, \n",
    "        distance_threshold, \n",
    "        o3d.pipelines.registration.TransformationEstimationPointToPoint(False), 3, \n",
    "        [\n",
    "            o3d.pipelines.registration.CorrespondenceCheckerBasedOnEdgeLength(\n",
    "                0.9\n",
    "            ),\n",
    "            o3d.pipelines.registration.CorrespondenceCheckerBasedOnDistance(\n",
    "                distance_threshold\n",
    "            )\n",
    "        ], o3d.pipelines.registration.RANSACConvergenceCriteria(100000, 0.999)\n",
    "    )\n",
    "    return result"
   ]
  },
  {
   "cell_type": "code",
   "execution_count": 8,
   "metadata": {},
   "outputs": [
    {
     "name": "stdout",
     "output_type": "stream",
     "text": [
      ":: RANSAC registration on downsampled point clouds. \n",
      "   Since the downsampling voxel sixe is 0.005, \n",
      "   we use a liberal distance threshold 0.007.\n",
      "RegistrationResult with fitness=4.210526e-01, inlier_rmse=4.232025e-03, and correspondence_set size of 640\n",
      "Access transformation to get result.\n",
      "[Open3D WARNING] GLFW Error: WGL: Failed to make context current: La operación de transformación solicitada no es compatible. \n"
     ]
    }
   ],
   "source": [
    "result_ransac = execute_global_registration(source_down, target_down, \n",
    "                                            source_fpfh, target_fpfh, \n",
    "                                            voxel_size)\n",
    "print(result_ransac)\n",
    "draw_registration_result(source_down, target_down, result_ransac.transformation)"
   ]
  },
  {
   "cell_type": "markdown",
   "metadata": {},
   "source": [
    "### Local refinement\n",
    "\n",
    "For performance reasons, the registration is only performed on a heavily down-sampled point cloud. The result is not tight. We can now use Point-to-plane ICP to further refine the alignment. "
   ]
  },
  {
   "cell_type": "code",
   "execution_count": 9,
   "metadata": {},
   "outputs": [],
   "source": [
    "def refine_registration(source, target, source_fpfh, target_fpfh, voxel_size):\n",
    "    distance_threshold = voxel_size * 0.4\n",
    "    print(\":: Point-to-plane ICP registration is applied on original point\")\n",
    "    print(\"   clouds to refine the alignment. This time we use a strict\")\n",
    "    print(\"   distance threshold %.3f.\" % distance_threshold)\n",
    "    result = o3d.pipelines.registration.registration_icp(\n",
    "        source, target, distance_threshold, result_ransac.transformation, \n",
    "        o3d.pipelines.registration.TransformationEstimationPointToPlane()\n",
    "    )\n",
    "    return result\n"
   ]
  },
  {
   "cell_type": "code",
   "execution_count": 10,
   "metadata": {},
   "outputs": [],
   "source": [
    "def compute_normals(pcd, radius):\n",
    "    pcd.estimate_normals(\n",
    "        o3d.geometry.KDTreeSearchParamHybrid(radius=radius, max_nn=30)\n",
    "    )"
   ]
  },
  {
   "cell_type": "code",
   "execution_count": 11,
   "metadata": {},
   "outputs": [],
   "source": [
    "radius_normal = voxel_size * 2\n",
    "compute_normals(source, radius_normal)\n",
    "compute_normals(target, radius_normal)"
   ]
  },
  {
   "cell_type": "code",
   "execution_count": 12,
   "metadata": {},
   "outputs": [
    {
     "name": "stdout",
     "output_type": "stream",
     "text": [
      ":: Point-to-plane ICP registration is applied on original point\n",
      "   clouds to refine the alignment. This time we use a strict\n",
      "   distance threshold 0.002.\n",
      "RegistrationResult with fitness=2.011000e-01, inlier_rmse=1.160255e-03, and correspondence_set size of 2011\n",
      "Access transformation to get result.\n",
      "[Open3D WARNING] [ViewControl] SetViewPoint() failed because window height and width are not set.\n"
     ]
    }
   ],
   "source": [
    "result_icp = refine_registration(source, target, source_fpfh, target_fpfh, voxel_size)\n",
    "print(result_icp)\n",
    "draw_registration_result(source, target, result_icp.transformation)"
   ]
  },
  {
   "cell_type": "code",
   "execution_count": 27,
   "metadata": {},
   "outputs": [
    {
     "data": {
      "text/plain": [
       "True"
      ]
     },
     "execution_count": 27,
     "metadata": {},
     "output_type": "execute_result"
    }
   ],
   "source": [
    "icp_result_path = \"C:\\\\Users\\\\gusta\\\\Desktop\\\\ITESM_Desktop\\\\maestria\\\\tesis\\\\TercerSemestre\\\\realTimeICP\\\\refined_one_img_process\\\\results\\\\ICP_result\\\\icp_result_pancake.ply\"\n",
    "source_transformed = source.transform(result_icp.transformation)\n",
    "#o3d.io.write_point_cloud(icp_result_path, source_transformed)"
   ]
  },
  {
   "cell_type": "markdown",
   "metadata": {},
   "source": [
    "Once you've done this, you've successfully been able to estimate the pose of the scan using your model. "
   ]
  }
 ],
 "metadata": {
  "kernelspec": {
   "display_name": "o3d",
   "language": "python",
   "name": "python3"
  },
  "language_info": {
   "codemirror_mode": {
    "name": "ipython",
    "version": 3
   },
   "file_extension": ".py",
   "mimetype": "text/x-python",
   "name": "python",
   "nbconvert_exporter": "python",
   "pygments_lexer": "ipython3",
   "version": "3.10.13"
  }
 },
 "nbformat": 4,
 "nbformat_minor": 2
}
